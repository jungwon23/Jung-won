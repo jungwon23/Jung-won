{
 "cells": [
  {
   "cell_type": "markdown",
   "id": "d0a64f0b-2315-45d4-9b8c-7622faabe0cf",
   "metadata": {},
   "source": [
    "### 1.주제 및 데이터\n",
    "-주제 : 데이터 기반으로 cost(비용)를 예측하는 회귀 문제\n",
    "\n",
    "-데이터: 변수로는 store_sqft, unit_sales, salad_bar, prepared_food 등이 있으며, target 목표는 cost이다.\n",
    "________\n",
    "### 2. 코드 리뷰\n",
    "####  EDA\n",
    "- 각 변수의 분포 시각화\n",
    "- store_sqft의 고유값이 20개뿐이라는 점에서 범주형 변수로 간주\n",
    "- salad_bar와 prepared_food는 유사 특성으로 병합\n",
    "- 변수 간 상관관계 분석을 통해 핵심 변수 선정 \n",
    "####  전처리\n",
    "- 결측치 처리: 평균 또는 최빈값으로 대체\n",
    "- 범주형 인코딩: OneHotEncoder, TargetEncoder 사용\n",
    "- 변수 스케일링: StandardScaler 적용\n",
    "####  모델 적합\n",
    "- 다양한 모델 실험: LinearRegression, Ridge, Lasso, ElasticNet, RandomForest, GradientBoosting,  XGBoost, LightGBM, CatBoost, StackingRegressor, Neural Network \n",
    "- 각 모델별 RMSE 평가함\n",
    "- Neural Network (4층 MLP, ReLU, EarlyStopping 사용)\n",
    "#### 하이퍼파라미터 및 검증\n",
    "- 모든 모델은 교차 검증 기반 성능 비교\n",
    "________________________________________\n",
    "### 3. 차별점 및 배울점\n",
    "#### [차별점]\n",
    "- store_sqft를 수치형이 아닌 범주형으로 처리함으로써 모델의 해석력과 성능 향상\n",
    "- 다양한 회귀 모델을 일관된 프레임워크에서 평가하고 비교함\n",
    "#### [배울점]\n",
    "- EDA를 통해 변수의 본질적 특성을 파악하는 것이 성능 향상에 매우 중요하다는 것을 이번 코드를 보면서 느낌\n",
    "- 다양한 모델을 통일된 파이프라인으로 관리하면 실험의 확장성과 비교가 쉽다는 것을 알게 됨\n",
    "\n"
   ]
  }
 ],
 "metadata": {
  "kernelspec": {
   "display_name": "Python 3 (tf)",
   "language": "python",
   "name": "tf"
  },
  "language_info": {
   "codemirror_mode": {
    "name": "ipython",
    "version": 3
   },
   "file_extension": ".py",
   "mimetype": "text/x-python",
   "name": "python",
   "nbconvert_exporter": "python",
   "pygments_lexer": "ipython3",
   "version": "3.9.18"
  }
 },
 "nbformat": 4,
 "nbformat_minor": 5
}
