{
 "cells": [
  {
   "cell_type": "markdown",
   "id": "f88559ca-e9b1-43f8-8268-805d27fee534",
   "metadata": {},
   "source": [
    "### [대회명] \n",
    "-웹 로그 기반 조회수 예측 해커톤\n",
    "\n",
    "### [주제]\n",
    "-웹 로그 데이터를 기반으로 조회수 예측\n",
    "\n",
    "### 데이터\n",
    "- train에는 한 세션에서 발생한 다양한 정보를 기록한 웹 로그로 sessionID, TARGET이 존재\n",
    "\n",
    "- test에는 sessionID존재, TARGET이 존재하지 않음\n",
    "\n",
    "- 예측 목표 :세션에서 발생한 총 조회수\n",
    "\n",
    "\n",
    "## [코드 리뷰]\n",
    "#### 1) EDA\n",
    "- target의 분포 확인\n",
    "\n",
    "- target과의 관계성 파악을 위해서 target을 분리하여 살펴봄.\n",
    "  \n",
    "#### 2) 전처리 \n",
    "- object type의 column들을 TargetEncoder을 이용해서 encoding 진행\n",
    "\n",
    "- 불필요한 칼럼 제거 및 중복 데이터 제거\n",
    "\n",
    "- 새로운 파생변수 생성\n",
    "\n",
    "#### 3)모델링\n",
    "- catboost를 기본 모델로 사용.\n",
    "\n",
    "- hyperparameter를 설정한 이후에 Optuna 라이브러리를 통해 최적의 파라미터 탐색\n",
    "\n",
    "#### 4) 평가\n",
    "- StratifiedKFold를 이용한 교차검증을 수행하였고, 각 fold마다 학습 후 validation 데이터에 대해 RMSE를 계산\n",
    "\n",
    "- 교차검증에서 각 fold별 RMSE를 기록하고 평균값을 구함\n",
    "\n",
    "### [차별점 및 배울점]\n",
    "- 이 코드에서는 EDA의 중요성에 대해서 확인한 것같다. 단순히 target의 분포를 살펴볼뿐만 아니라 이것을 바탕으로 파생변수를 생성할지 결정한 것을 통해서 EDA 과정에서 시간을 더 투자해야겠다는 생각을 하게됨\n",
    "\n",
    "- StratifiedKFold + Group 기반 분할이 실제로 성능에 영향을 준다\n",
    "\n"
   ]
  }
 ],
 "metadata": {
  "kernelspec": {
   "display_name": "Python 3 (tf)",
   "language": "python",
   "name": "tf"
  },
  "language_info": {
   "codemirror_mode": {
    "name": "ipython",
    "version": 3
   },
   "file_extension": ".py",
   "mimetype": "text/x-python",
   "name": "python",
   "nbconvert_exporter": "python",
   "pygments_lexer": "ipython3",
   "version": "3.9.18"
  }
 },
 "nbformat": 4,
 "nbformat_minor": 5
}
