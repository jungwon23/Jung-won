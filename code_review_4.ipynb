{
 "cells": [
  {
   "cell_type": "markdown",
   "id": "e4c1f788-ff9f-4a71-8d45-04f39287734d",
   "metadata": {},
   "source": [
    "### 1. 주제 및 데이터\n",
    "주제: 자동차 제조 공정에서 테스트 벤치 시간(y)을 예측하는 회귀 문제\n",
    "\n",
    "데이터: train.csv: (4209, 378), test.csv: 예측 대상\n",
    "\n",
    "변수는 총 378개, 그 중 수치형 370개 범주형 8개 (X0, X1, X2, X3, X4, X5, X6, X8)\n",
    "\n",
    "목표(Target): y\n",
    "\n",
    "### 2. 코드 리뷰\n",
    "#### EDA\n",
    "- 변수의 분포 및 상관관계 시각화\n",
    "- 이상치 제거\n",
    "- 범주형 변수의 분포 확인 및 교차표 \n",
    "- 변수 간 상관관계 기반으로 중요 피처 사전 선별 \n",
    "\n",
    "#### 전처리\n",
    "- 0분산/저분산 변수 제거: 146개 제거\n",
    "- 중복 피처 제거\n",
    "- 범주형 인코딩: LabelEncoder 사용 \n",
    "- 스케일링: StandardScaler\n",
    "- 피처 엔지니어링\n",
    "\n",
    "#### 모델링\n",
    "- 모델 종류: XGBoost, RandomForest \n",
    "\n",
    "- EarlyStopping 이용\n",
    "\n",
    "- 피처 중요도 분석: XGBoost, RandomForest 비교\n",
    "\n",
    "- 하이퍼파라미터 튜닝: GridSearch 없이 직접 실험\n",
    "\n",
    "- 최종 모델: XGBoost (max_depth=3 등)\n",
    "\n",
    "- 성능 지표: R² 기준으로 확보\n",
    "\n",
    "### 3. 차별점 및 배운점\n",
    "#### 차별점\n",
    "\n",
    "- 고상관/중복 피처 적극 제거로 차원 축소 및 성능 향상\n",
    "- 강력한 피처 엔지니어링으로 단일 피처보다 높은 성능 유도\n",
    "- 실험적 방식으로 threshold (corr 0.95 등)를 직접 검토하여 적용\n",
    "\n",
    "#### 배운점\n",
    "- 단순히 모델링보다 데이터 전처리 및 피처 정제가 성능에 더 큰 영향을 미침\n",
    "- 다양한 모델을 실험하며 피처 중요도 시각화 및 비교가 모델 선택에 도움됨"
   ]
  }
 ],
 "metadata": {
  "kernelspec": {
   "display_name": "Python 3 (tf)",
   "language": "python",
   "name": "tf"
  },
  "language_info": {
   "codemirror_mode": {
    "name": "ipython",
    "version": 3
   },
   "file_extension": ".py",
   "mimetype": "text/x-python",
   "name": "python",
   "nbconvert_exporter": "python",
   "pygments_lexer": "ipython3",
   "version": "3.9.18"
  }
 },
 "nbformat": 4,
 "nbformat_minor": 5
}
