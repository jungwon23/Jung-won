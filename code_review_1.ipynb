{
 "cells": [
  {
   "cell_type": "markdown",
   "id": "f3f414f9-87d2-493e-8265-1fc28ae4ff22",
   "metadata": {},
   "source": [
    "## [주제 및 데이터]\n",
    "### 주제\n",
    ": 제주도 특산물의 가격을 예측하는 AI 모델 개발 및 인사이트 발굴\n",
    "\n",
    "### 데이터 설명\n",
    ":train.csv에는 59397개의 행과 item, corporation, location, supply, price, timestamp, ID로 7개의 columns으로 이루어져있다.\n",
    "\n",
    " test.csv에서는 price와 supply columns가 없고, ID는 train과 동일하게 구성되어 있다.\n",
    "\n",
    "_____\n",
    "\n",
    "## [코드리뷰]\n",
    "1)  데이터 불러오기+전처리\n",
    "    * 날짜를 year, month, day, week 등으로 나누어서 새로운  column 추가\n",
    "    * 공휴일인지 여부도 판단해서 holiday 칼럼 생성\n",
    "    * train ,test 분리하기\n",
    "2) TG를 제외한 나머지 농산물 전처리+모델링\n",
    "    * 이상치를 평균값으로 대체\n",
    "    * catboost와 xgboost -> 앙상블 모델로 학습후 예측함\n",
    "    * 예측후 음수인 경우 0으로 바꿈\n",
    "3) TG처리- 첫번째 모델\n",
    "    * 감귤 데이터만 따로 정렬해서 처리\n",
    "    * voting 모델 사용(catboost+XGBoost)하여 학습 후 예측\n",
    "4) TG처리-두번째 모델\n",
    "    * catboot 모델 하나만 사용하여 학습 후 예측\n",
    "5) TG앙상블\n",
    "    * 감귤 예측 2개로 평균을 냄.\n",
    "    * 다른 과일 예측 결과와 합쳐 최종 예측 데이터 완성\n",
    "6) 후처리\n",
    "    * 품목별로 너무 작게 예측된 값을 0으로 바꿔줌\n",
    "\n",
    "____\n",
    "\n",
    "## [차별점/ 배워야할 점]\n",
    "- 코드를 완벽하게 이해하지는 못했지만, 시계열 분석을 위해 연도/월/일/요일/주차 등 다양한 파생 변수를 만들어 모델 입력값으로 활용한 것이 인상적이었음.\n",
    "- 각 품목별로 이상치를 처리하고, 불필요한 변수를 제거하면서 모델 성능을 고려한 전처리를 진행함.\n",
    "- 이 과정을 통해 단순한 모델링 이전에 데이터 전처리와 변수 생성(EDA)의 중요성을 체감하게 되었음."
   ]
  }
 ],
 "metadata": {
  "kernelspec": {
   "display_name": "Python 3 (tf)",
   "language": "python",
   "name": "tf"
  },
  "language_info": {
   "codemirror_mode": {
    "name": "ipython",
    "version": 3
   },
   "file_extension": ".py",
   "mimetype": "text/x-python",
   "name": "python",
   "nbconvert_exporter": "python",
   "pygments_lexer": "ipython3",
   "version": "3.9.18"
  }
 },
 "nbformat": 4,
 "nbformat_minor": 5
}
